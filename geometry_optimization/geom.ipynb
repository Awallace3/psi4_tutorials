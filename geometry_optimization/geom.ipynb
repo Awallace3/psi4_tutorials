{
 "cells": [
  {
   "cell_type": "code",
   "execution_count": 63,
   "id": "7be8b904",
   "metadata": {},
   "outputs": [
    {
     "data": {
      "application/3dmoljs_load.v0": "<div id=\"3dmolviewer_17471685338958132\"  style=\"position: relative; width: 500px; height: 400px;\">\n        <p id=\"3dmolwarning_17471685338958132\" style=\"background-color:#ffcccc;color:black\">3Dmol.js failed to load for some reason.  Please check your browser console for error messages.<br></p>\n        </div>\n<script>\n\nvar loadScriptAsync = function(uri){\n  return new Promise((resolve, reject) => {\n    //this is to ignore the existence of requirejs amd\n    var savedexports, savedmodule;\n    if (typeof exports !== 'undefined') savedexports = exports;\n    else exports = {}\n    if (typeof module !== 'undefined') savedmodule = module;\n    else module = {}\n\n    var tag = document.createElement('script');\n    tag.src = uri;\n    tag.async = true;\n    tag.onload = () => {\n        exports = savedexports;\n        module = savedmodule;\n        resolve();\n    };\n  var firstScriptTag = document.getElementsByTagName('script')[0];\n  firstScriptTag.parentNode.insertBefore(tag, firstScriptTag);\n});\n};\n\nif(typeof $3Dmolpromise === 'undefined') {\n$3Dmolpromise = null;\n  $3Dmolpromise = loadScriptAsync('https://cdnjs.cloudflare.com/ajax/libs/3Dmol/2.4.2/3Dmol-min.js');\n}\n\nvar viewer_17471685338958132 = null;\nvar warn = document.getElementById(\"3dmolwarning_17471685338958132\");\nif(warn) {\n    warn.parentNode.removeChild(warn);\n}\n$3Dmolpromise.then(function() {\nviewer_17471685338958132 = $3Dmol.createViewer(document.getElementById(\"3dmolviewer_17471685338958132\"),{backgroundColor:\"white\"});\nviewer_17471685338958132.zoomTo();\n\tviewer_17471685338958132.addModelsAsFrames(\"3\\nStep 1\\nO  -0.0839361  -0.134298  0\\nH  -0.0839361  1.3657  0\\nH  1.41606  0.765702  0\\n3\\nStep 2\\nO  -0.0293757  -0.0311924  0\\nH  -0.048918  1.28137  0\\nH  1.32648  0.746927  0\\n3\\nStep 3\\nO  0.0803707  0.131516  0\\nH  -0.204526  1.08582  0\\nH  1.23614  0.522375  0\\n3\\nStep 4\\nO  0.125043  0.0723842  0\\nH  -0.277835  0.78394  0\\nH  0.877471  0.263027  0\\n3\\nStep 5\\nO  -0.0464543  -0.0775218  0\\nH  -0.479147  0.699803  0\\nH  0.816472  0.128463  0\\n3\\nStep 6\\nO  0.000426062  -0.105898  0\\nH  -0.492573  0.775887  0\\nH  0.850156  0.148251  0\\n3\\nStep 7\\nO  -0.0669154  -0.0500375  0\\nH  -0.501991  0.795545  0\\nH  0.865753  0.199734  0\\n3\\nStep 8\\nO  -0.0227365  -0.0559138  0\\nH  -0.485175  0.79125  0\\nH  0.921972  0.176139  0\\n3\\nStep 9\\nO  -0.0289379  -0.072052  0\\nH  -0.475342  0.788125  0\\nH  0.90559  0.181972  0\\n3\\nStep 10\\nO  -0.0257482  -0.0582265  0\\nH  -0.477516  0.796996  0\\nH  0.909446  0.188389  0\\n3\\nStep 11\\nO  -0.0270119  -0.0613951  0\\nH  -0.478636  0.793317  0\\nH  0.90792  0.184948  0\\n3\\nStep 12\\nO  -0.0269839  -0.0615984  0\\nH  -0.478655  0.793095  0\\nH  0.907813  0.184721  0\\n\",\"xyz\");\n\tviewer_17471685338958132.setStyle({\"stick\": {}, \"sphere\": {\"scale\": 0.25}});\n\tviewer_17471685338958132.animate({\"loop\": \"backAndForth\", \"interval\": 1000});\n\tviewer_17471685338958132.zoomTo();\nviewer_17471685338958132.render();\n});\n</script>",
      "text/html": [
       "<div id=\"3dmolviewer_17471685338958132\"  style=\"position: relative; width: 500px; height: 400px;\">\n",
       "        <p id=\"3dmolwarning_17471685338958132\" style=\"background-color:#ffcccc;color:black\">3Dmol.js failed to load for some reason.  Please check your browser console for error messages.<br></p>\n",
       "        </div>\n",
       "<script>\n",
       "\n",
       "var loadScriptAsync = function(uri){\n",
       "  return new Promise((resolve, reject) => {\n",
       "    //this is to ignore the existence of requirejs amd\n",
       "    var savedexports, savedmodule;\n",
       "    if (typeof exports !== 'undefined') savedexports = exports;\n",
       "    else exports = {}\n",
       "    if (typeof module !== 'undefined') savedmodule = module;\n",
       "    else module = {}\n",
       "\n",
       "    var tag = document.createElement('script');\n",
       "    tag.src = uri;\n",
       "    tag.async = true;\n",
       "    tag.onload = () => {\n",
       "        exports = savedexports;\n",
       "        module = savedmodule;\n",
       "        resolve();\n",
       "    };\n",
       "  var firstScriptTag = document.getElementsByTagName('script')[0];\n",
       "  firstScriptTag.parentNode.insertBefore(tag, firstScriptTag);\n",
       "});\n",
       "};\n",
       "\n",
       "if(typeof $3Dmolpromise === 'undefined') {\n",
       "$3Dmolpromise = null;\n",
       "  $3Dmolpromise = loadScriptAsync('https://cdnjs.cloudflare.com/ajax/libs/3Dmol/2.4.2/3Dmol-min.js');\n",
       "}\n",
       "\n",
       "var viewer_17471685338958132 = null;\n",
       "var warn = document.getElementById(\"3dmolwarning_17471685338958132\");\n",
       "if(warn) {\n",
       "    warn.parentNode.removeChild(warn);\n",
       "}\n",
       "$3Dmolpromise.then(function() {\n",
       "viewer_17471685338958132 = $3Dmol.createViewer(document.getElementById(\"3dmolviewer_17471685338958132\"),{backgroundColor:\"white\"});\n",
       "viewer_17471685338958132.zoomTo();\n",
       "\tviewer_17471685338958132.addModelsAsFrames(\"3\\nStep 1\\nO  -0.0839361  -0.134298  0\\nH  -0.0839361  1.3657  0\\nH  1.41606  0.765702  0\\n3\\nStep 2\\nO  -0.0293757  -0.0311924  0\\nH  -0.048918  1.28137  0\\nH  1.32648  0.746927  0\\n3\\nStep 3\\nO  0.0803707  0.131516  0\\nH  -0.204526  1.08582  0\\nH  1.23614  0.522375  0\\n3\\nStep 4\\nO  0.125043  0.0723842  0\\nH  -0.277835  0.78394  0\\nH  0.877471  0.263027  0\\n3\\nStep 5\\nO  -0.0464543  -0.0775218  0\\nH  -0.479147  0.699803  0\\nH  0.816472  0.128463  0\\n3\\nStep 6\\nO  0.000426062  -0.105898  0\\nH  -0.492573  0.775887  0\\nH  0.850156  0.148251  0\\n3\\nStep 7\\nO  -0.0669154  -0.0500375  0\\nH  -0.501991  0.795545  0\\nH  0.865753  0.199734  0\\n3\\nStep 8\\nO  -0.0227365  -0.0559138  0\\nH  -0.485175  0.79125  0\\nH  0.921972  0.176139  0\\n3\\nStep 9\\nO  -0.0289379  -0.072052  0\\nH  -0.475342  0.788125  0\\nH  0.90559  0.181972  0\\n3\\nStep 10\\nO  -0.0257482  -0.0582265  0\\nH  -0.477516  0.796996  0\\nH  0.909446  0.188389  0\\n3\\nStep 11\\nO  -0.0270119  -0.0613951  0\\nH  -0.478636  0.793317  0\\nH  0.90792  0.184948  0\\n3\\nStep 12\\nO  -0.0269839  -0.0615984  0\\nH  -0.478655  0.793095  0\\nH  0.907813  0.184721  0\\n\",\"xyz\");\n",
       "\tviewer_17471685338958132.setStyle({\"stick\": {}, \"sphere\": {\"scale\": 0.25}});\n",
       "\tviewer_17471685338958132.animate({\"loop\": \"backAndForth\", \"interval\": 1000});\n",
       "\tviewer_17471685338958132.zoomTo();\n",
       "viewer_17471685338958132.render();\n",
       "});\n",
       "</script>"
      ]
     },
     "metadata": {},
     "output_type": "display_data"
    }
   ],
   "source": [
    "import psi4\n",
    "import numpy as np\n",
    "from pprint import pprint as pp\n",
    "import pandas as pd\n",
    "import matplotlib.pyplot as plt\n",
    "import os\n",
    "import py3Dmol\n",
    "\n",
    "with open(\"opt_trajectory.xyz\") as f:\n",
    "    xyz = f.read()\n",
    "\n",
    "view = py3Dmol.view(width=500, height=400)\n",
    "view.addModelsAsFrames(xyz, \"xyz\")\n",
    "view.setStyle({'stick': {}, 'sphere': {'scale': 0.25}})\n",
    "view.animate({'loop': 'backAndForth', 'interval': 1000})\n",
    "view.zoomTo()\n",
    "view.show()"
   ]
  },
  {
   "cell_type": "code",
   "execution_count": 64,
   "id": "a3c52e3f",
   "metadata": {},
   "outputs": [
    {
     "data": {
      "application/3dmoljs_load.v0": "<div id=\"3dmolviewer_17471685393681338\"  style=\"position: relative; width: 500px; height: 400px;\">\n        <p id=\"3dmolwarning_17471685393681338\" style=\"background-color:#ffcccc;color:black\">3Dmol.js failed to load for some reason.  Please check your browser console for error messages.<br></p>\n        </div>\n<script>\n\nvar loadScriptAsync = function(uri){\n  return new Promise((resolve, reject) => {\n    //this is to ignore the existence of requirejs amd\n    var savedexports, savedmodule;\n    if (typeof exports !== 'undefined') savedexports = exports;\n    else exports = {}\n    if (typeof module !== 'undefined') savedmodule = module;\n    else module = {}\n\n    var tag = document.createElement('script');\n    tag.src = uri;\n    tag.async = true;\n    tag.onload = () => {\n        exports = savedexports;\n        module = savedmodule;\n        resolve();\n    };\n  var firstScriptTag = document.getElementsByTagName('script')[0];\n  firstScriptTag.parentNode.insertBefore(tag, firstScriptTag);\n});\n};\n\nif(typeof $3Dmolpromise === 'undefined') {\n$3Dmolpromise = null;\n  $3Dmolpromise = loadScriptAsync('https://cdnjs.cloudflare.com/ajax/libs/3Dmol/2.4.2/3Dmol-min.js');\n}\n\nvar viewer_17471685393681338 = null;\nvar warn = document.getElementById(\"3dmolwarning_17471685393681338\");\nif(warn) {\n    warn.parentNode.removeChild(warn);\n}\n$3Dmolpromise.then(function() {\nviewer_17471685393681338 = $3Dmol.createViewer(document.getElementById(\"3dmolviewer_17471685393681338\"),{backgroundColor:\"white\"});\nviewer_17471685393681338.zoomTo();\n\tviewer_17471685393681338.addModelsAsFrames(\"3\\n0 1\\n O   -0.027044687107   -0.061612224896    0.000000000000\\n H   -0.478669237311    0.793100116444    0.000000000000\\n H    0.907888047480    0.184730603397    0.000000000000\\n\",\"xyz\");\n\tviewer_17471685393681338.setStyle({\"stick\": {}, \"sphere\": {\"scale\": 0.25}});\n\tviewer_17471685393681338.zoomTo();\nviewer_17471685393681338.render();\n});\n</script>",
      "text/html": [
       "<div id=\"3dmolviewer_17471685393681338\"  style=\"position: relative; width: 500px; height: 400px;\">\n",
       "        <p id=\"3dmolwarning_17471685393681338\" style=\"background-color:#ffcccc;color:black\">3Dmol.js failed to load for some reason.  Please check your browser console for error messages.<br></p>\n",
       "        </div>\n",
       "<script>\n",
       "\n",
       "var loadScriptAsync = function(uri){\n",
       "  return new Promise((resolve, reject) => {\n",
       "    //this is to ignore the existence of requirejs amd\n",
       "    var savedexports, savedmodule;\n",
       "    if (typeof exports !== 'undefined') savedexports = exports;\n",
       "    else exports = {}\n",
       "    if (typeof module !== 'undefined') savedmodule = module;\n",
       "    else module = {}\n",
       "\n",
       "    var tag = document.createElement('script');\n",
       "    tag.src = uri;\n",
       "    tag.async = true;\n",
       "    tag.onload = () => {\n",
       "        exports = savedexports;\n",
       "        module = savedmodule;\n",
       "        resolve();\n",
       "    };\n",
       "  var firstScriptTag = document.getElementsByTagName('script')[0];\n",
       "  firstScriptTag.parentNode.insertBefore(tag, firstScriptTag);\n",
       "});\n",
       "};\n",
       "\n",
       "if(typeof $3Dmolpromise === 'undefined') {\n",
       "$3Dmolpromise = null;\n",
       "  $3Dmolpromise = loadScriptAsync('https://cdnjs.cloudflare.com/ajax/libs/3Dmol/2.4.2/3Dmol-min.js');\n",
       "}\n",
       "\n",
       "var viewer_17471685393681338 = null;\n",
       "var warn = document.getElementById(\"3dmolwarning_17471685393681338\");\n",
       "if(warn) {\n",
       "    warn.parentNode.removeChild(warn);\n",
       "}\n",
       "$3Dmolpromise.then(function() {\n",
       "viewer_17471685393681338 = $3Dmol.createViewer(document.getElementById(\"3dmolviewer_17471685393681338\"),{backgroundColor:\"white\"});\n",
       "viewer_17471685393681338.zoomTo();\n",
       "\tviewer_17471685393681338.addModelsAsFrames(\"3\\n0 1\\n O   -0.027044687107   -0.061612224896    0.000000000000\\n H   -0.478669237311    0.793100116444    0.000000000000\\n H    0.907888047480    0.184730603397    0.000000000000\\n\",\"xyz\");\n",
       "\tviewer_17471685393681338.setStyle({\"stick\": {}, \"sphere\": {\"scale\": 0.25}});\n",
       "\tviewer_17471685393681338.zoomTo();\n",
       "viewer_17471685393681338.render();\n",
       "});\n",
       "</script>"
      ]
     },
     "metadata": {},
     "output_type": "display_data"
    }
   ],
   "source": [
    "with open(\"final_opt.xyz\") as f:\n",
    "    xyz = f.read()\n",
    "\n",
    "view = py3Dmol.view(width=500, height=400)\n",
    "view.addModelsAsFrames(xyz, \"xyz\")\n",
    "view.setStyle({'stick': {}, 'sphere': {'scale': 0.25}})\n",
    "view.zoomTo()\n",
    "view.show()"
   ]
  },
  {
   "cell_type": "code",
   "execution_count": null,
   "id": "15672244",
   "metadata": {},
   "outputs": [],
   "source": []
  }
 ],
 "metadata": {
  "kernelspec": {
   "display_name": "Python 3",
   "language": "python",
   "name": "python3"
  },
  "language_info": {
   "codemirror_mode": {
    "name": "ipython",
    "version": 3
   },
   "file_extension": ".py",
   "mimetype": "text/x-python",
   "name": "python",
   "nbconvert_exporter": "python",
   "pygments_lexer": "ipython3",
   "version": "3.10.17"
  }
 },
 "nbformat": 4,
 "nbformat_minor": 5
}
